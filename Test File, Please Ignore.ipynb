{
 "cells": [
  {
   "cell_type": "code",
   "execution_count": 1,
   "metadata": {},
   "outputs": [
    {
     "data": {
      "text/plain": [
       "tensor([2.])"
      ]
     },
     "execution_count": 1,
     "metadata": {},
     "output_type": "execute_result"
    }
   ],
   "source": [
    "# import pytorch\n",
    "import torch\n",
    "\n",
    "# define a tensor\n",
    "torch.FloatTensor([2])\n",
    "torch.cuda.current_device()\n",
    "torch.cuda.device(0)\n",
    " torch.cuda.device_count()\n",
    "    torch.cuda.get_device_name(0)"
   ]
  },
  {
   "cell_type": "code",
   "execution_count": 1,
   "metadata": {},
   "outputs": [],
   "source": [
    "import logly\n",
    "from random import randint"
   ]
  },
  {
   "cell_type": "code",
   "execution_count": 2,
   "metadata": {},
   "outputs": [
    {
     "name": "stdout",
     "output_type": "stream",
     "text": [
      "first: 2, second: 5, third:10\n"
     ]
    }
   ],
   "source": [
    "val_flag = True\n",
    "epoch_size = 5\n",
    "batch_size = 10\n",
    "batch_log = logly.logly(val_flag, epoch_size, batch_size)"
   ]
  },
  {
   "cell_type": "code",
   "execution_count": 3,
   "metadata": {},
   "outputs": [],
   "source": [
    "for phase in ['train', 'val']:\n",
    "    for epoch in range(epoch_size):\n",
    "        for batch in range(batch_size):\n",
    "            loss = randint(0, 100)\n",
    "            batch_log.log(phase, epoch, batch, loss)"
   ]
  },
  {
   "cell_type": "code",
   "execution_count": 4,
   "metadata": {
    "scrolled": false
   },
   "outputs": [],
   "source": [
    "batch_log.write(\"data/logs/\", \"test\")\n",
    "\n",
    "\n",
    "\n"
   ]
  },
  {
   "cell_type": "code",
   "execution_count": 8,
   "metadata": {},
   "outputs": [
    {
     "data": {
      "text/html": [
       "<script type=\"text/javascript\">window.PlotlyConfig = {MathJaxConfig: 'local'};</script><script type=\"text/javascript\">if (window.MathJax) {MathJax.Hub.Config({SVG: {font: \"STIX-Web\"}});}</script><script>requirejs.config({paths: { 'plotly': ['https://cdn.plot.ly/plotly-latest.min']},});if(!window._Plotly) {require(['plotly'],function(plotly) {window._Plotly=plotly;});}</script>"
      ],
      "text/vnd.plotly.v1+html": [
       "<script type=\"text/javascript\">window.PlotlyConfig = {MathJaxConfig: 'local'};</script><script type=\"text/javascript\">if (window.MathJax) {MathJax.Hub.Config({SVG: {font: \"STIX-Web\"}});}</script><script>requirejs.config({paths: { 'plotly': ['https://cdn.plot.ly/plotly-latest.min']},});if(!window._Plotly) {require(['plotly'],function(plotly) {window._Plotly=plotly;});}</script>"
      ]
     },
     "metadata": {},
     "output_type": "display_data"
    }
   ],
   "source": [
    "import plotly\n",
    "from plotly.offline import iplot, init_notebook_mode\n",
    "#import plotly.plotly as py\n",
    "import plotly.graph_objs as go\n",
    "import plotly.io as pio\n",
    "\n",
    "import os\n",
    "\n",
    "#plotly.__version__\n",
    "\n",
    "init_notebook_mode(connected=True)\n",
    "\n",
    "plotly.io.orca.config.executable = '/home/royce/orca/orca-1.2.1-x86_64.AppImage'\n",
    "plotly.io.orca.config.save() \n",
    "\n",
    "class potly(object):\n",
    "    def __init__(self, pot=0):\n",
    "        self.pot = 0\n",
    "    \n",
    "\n",
    "    def save_plot(self, train_y, val_y, output_dir, filename):\n",
    "#         if(len(train_y) != len(val_y)):\n",
    "#             print(\"Train not same length as validation\")\n",
    "        \n",
    "        # get x axis\n",
    "        train_x = [i for i in range(len(train_y))]\n",
    "        val_x = [i for i in range(len(val_y))]\n",
    "        \n",
    "        # create plots\n",
    "        fig1 = go.Scatter(x=train_x, y=train_y, name='training')\n",
    "        fig2 = go.Scatter(x=val_x, y=val_y, name='validation')\n",
    "        \n",
    "        # needed for data input\n",
    "        data = [fig1, fig2]\n",
    "        \n",
    "        # create layout: titles\n",
    "        layout = go.Layout(\n",
    "            title='Plot Title',\n",
    "            xaxis=dict(\n",
    "                title='Batch #',\n",
    "                titlefont=dict(\n",
    "                    family='Courier New, monospace',\n",
    "                    size=18,\n",
    "                    color='#7f7f7f'\n",
    "                )\n",
    "            ),\n",
    "            yaxis=dict(\n",
    "                title='Loss',\n",
    "                titlefont=dict(\n",
    "                    family='Courier New, monospace',\n",
    "                    size=18,\n",
    "                    color='#7f7f7f'\n",
    "                )\n",
    "            )\n",
    "        )\n",
    "        \n",
    "        # load data and layout\n",
    "        fig = go.Figure(data=data, layout=layout)\n",
    "        \n",
    "        # double check to make sure if directory exists\n",
    "        os.makedirs(output_dir, exist_ok=True)\n",
    "        \n",
    "        pio.write_image(fig, output_dir + filename + '.png')\n"
   ]
  },
  {
   "cell_type": "code",
   "execution_count": 10,
   "metadata": {
    "scrolled": false
   },
   "outputs": [],
   "source": [
    "#import potly\n",
    "from datetime import datetime\n",
    "import json\n",
    "\n",
    "#with open('./data/logs/2019-04-01-1.log', 'r') as data_file:\n",
    "#    json_data = data_file.read()\n",
    "\n",
    "with open('./data/logs/2019-04-01-1v.log', 'r') as data_file:\n",
    "    json_data_2 = data_file.read()\n",
    "\n",
    "#train = json.loads(json_data)\n",
    "val = json.loads(json_data_2)\n",
    "\n",
    "pot = potly()\n",
    "output_dir = './data/outputs/plots/'\n",
    "filename = str(datetime.now().date()) + \"1\"\n",
    "N = 100\n",
    "x = [0 , 0 , 0 , 0]\n",
    "y = val[1][0]\n",
    "\n",
    "pot.save_plot(x,y,output_dir, filename)"
   ]
  },
  {
   "cell_type": "code",
   "execution_count": 13,
   "metadata": {},
   "outputs": [],
   "source": []
  },
  {
   "cell_type": "code",
   "execution_count": 14,
   "metadata": {},
   "outputs": [],
   "source": []
  },
  {
   "cell_type": "code",
   "execution_count": null,
   "metadata": {},
   "outputs": [],
   "source": []
  }
 ],
 "metadata": {
  "kernelspec": {
   "display_name": "Python 3",
   "language": "python",
   "name": "python3"
  },
  "language_info": {
   "codemirror_mode": {
    "name": "ipython",
    "version": 3
   },
   "file_extension": ".py",
   "mimetype": "text/x-python",
   "name": "python",
   "nbconvert_exporter": "python",
   "pygments_lexer": "ipython3",
   "version": "3.6.5"
  }
 },
 "nbformat": 4,
 "nbformat_minor": 2
}
