{
 "cells": [
  {
   "cell_type": "code",
   "execution_count": 1,
   "metadata": {},
   "outputs": [],
   "source": [
    "from PIL import Image\n",
    "from scipy import ndimage\n",
    "from random import randint\n",
    "import sys\n",
    "import torch\n",
    "import numpy as np\n",
    "import pandas as pd\n",
    "import torchvision\n",
    "import matplotlib.pyplot as plt\n",
    "\n",
    "PATH = \"data/\"\n",
    "PHOTOS_PATH = PATH + \"photos/\"\n",
    "TENSOR_PATH = PATH + \"tensors/\"\n",
    "\n",
    "class dataGenerator(object):\n",
    "\n",
    "    def __init__(self, IMAGE_SIZE = 400):\n",
    "        self.IMAGE_SIZE=400\n",
    "    \n",
    "    def drawBackground(self,imgMap):\n",
    "        rgb = (randint(0,255),randint(0,255),randint(0,255))\n",
    "        for i in range(self.IMAGE_SIZE):\n",
    "            for j in range(self.IMAGE_SIZE):\n",
    "                imgMap[i,j] = rgb\n",
    "        \n",
    "    def drawLine(self, imgMap, tensorMap, start, lenth):\n",
    "        r = g = b = 128\n",
    "        for i in range(start, start + lenth):\n",
    "            for j in range(self.IMAGE_SIZE):\n",
    "                imgMap[i,j] = (r,g,b)\n",
    "                tensorMap[0,i,j] = 1\n",
    "\n",
    "    def rotateImageAndTensor(self, img, tensorMap, angle):\n",
    "        #Rotate Image\n",
    "        imgR = torchvision.transforms.functional.rotate(img,angle)\n",
    "        #Rotate Tensor\n",
    "        tensor = torchvision.transforms.ToPILImage(mode='L')(tensorMap)\n",
    "        tensor = torchvision.transforms.functional.rotate(tensor, -1 * angle)\n",
    "        tensor = torchvision.transforms.functional.to_tensor(tensor)\n",
    "        return imgR, tensor\n",
    "     \n",
    "    def generateImage(self,lenth):\n",
    "        img = Image.new('RGB',(self.IMAGE_SIZE,self.IMAGE_SIZE))\n",
    "        tensorMap = torch.zeros([1,self.IMAGE_SIZE, self.IMAGE_SIZE])\n",
    "        \n",
    "        imgMap = img.load()\n",
    "        \n",
    "        self.drawBackground(imgMap)\n",
    "        \n",
    "        #factor = 0.45   # ft/px\n",
    "        \n",
    "        start = randint(10, self.IMAGE_SIZE - lenth)\n",
    "        self.drawLine(imgMap, tensorMap, start, lenth)\n",
    "\n",
    "        return img, tensorMap\n",
    "    \n",
    "    def showMaskOnImage(self, img, tensor):\n",
    "        imgTemp = img.copy()\n",
    "        imgMap = imgTemp.load()\n",
    "        for i in range(0, self.IMAGE_SIZE):\n",
    "            for j in range(0, self.IMAGE_SIZE):\n",
    "                if tensor[0,i,j] == 1:\n",
    "                    imgMap[i,j] = (255,0,0)\n",
    "        return imgTemp"
   ]
  },
  {
   "cell_type": "code",
   "execution_count": 3,
   "metadata": {},
   "outputs": [
    {
     "name": "stdout",
     "output_type": "stream",
     "text": [
      "Picture  0\n",
      "Picture  10\n",
      "Picture  20\n",
      "Picture  30\n",
      "Picture  40\n",
      "Picture  50\n",
      "Picture  60\n",
      "Picture  70\n",
      "Picture  80\n",
      "Picture  90\n"
     ]
    }
   ],
   "source": [
    "#import ImageGenerated_v2\n",
    "#import pandas as pd\n",
    "#from random import randint\n",
    "\n",
    "factor = 0.45\n",
    "num_of_images = 100\n",
    "\n",
    "#imageGen = roadImage2()\n",
    "imageGen = dataGenerator()\n",
    "\n",
    "for i in range(0,num_of_images):\n",
    "    if i % 10 == 0:\n",
    "        print(\"Picture \",i,\"/\",num_of_images)\n",
    "        \n",
    "    lenth = randint(17,35)\n",
    "    img, tensor = imageGen.generateImage(lenth)\n",
    "    \n",
    "    img2, tensor2 = imageGen.rotateImageAndTensor(img, tensor, randint(0,180))\n",
    "    \n",
    "    img.save(PHOTOS_PATH + str(i) + \".png\",\"PNG\")\n",
    "    torch.save(tensor, TENSOR_PATH + str(i) + '.pt')\n",
    "    \n",
    "    img2.save(PHOTOS_PATH + str(num_of_images + i) + \".png\",\"PNG\")\n",
    "    torch.save(tensor2, TENSOR_PATH + str(num_of_images + i) + '.pt')    \n",
    "    \n",
    "#     for i in range(30,180,30):\n",
    "#         img2 = img.rotate(i)\n",
    "#         img2.save(PHOTOS_PATH + FileName + \"-\" + str(i),\"PNG\")\n",
    "#         img2 = imageGen.rotateImage(img,i)\n",
    "#         img2.save(\"photos/\" + FileName + \"-\" + str(i),\"PNG\")         \n",
    "    \n",
    "#     FileName = str(i) + \".png\"\n",
    "    \n",
    "#     img.save(\"photos/\" + FileName,\"PNG\")"
   ]
  },
  {
   "cell_type": "code",
   "execution_count": 3,
   "metadata": {},
   "outputs": [
    {
     "data": {
      "image/png": "[encoded data removed]",
      "text/plain": [
       "<PIL.Image.Image image mode=RGB size=400x400 at 0x7FADBC15BF98>"
      ]
     },
     "execution_count": 3,
     "metadata": {},
     "output_type": "execute_result"
    }
   ],
   "source": [
    "imgRed = imageGen.showMaskOnImage(img, tensor)\n",
    "imgRed"
   ]
  },
  {
   "cell_type": "code",
   "execution_count": 4,
   "metadata": {},
   "outputs": [
    {
     "data": {
      "image/png": "[encoded data removed]",
      "text/plain": [
       "<PIL.Image.Image image mode=RGB size=400x400 at 0x7FADBC1620F0>"
      ]
     },
     "execution_count": 4,
     "metadata": {},
     "output_type": "execute_result"
    }
   ],
   "source": [
    "img2, tensor2 = imageGen.rotateImageAndTensor(img, tensor, 45)\n",
    "img2"
   ]
  },
  {
   "cell_type": "code",
   "execution_count": 6,
   "metadata": {},
   "outputs": [
    {
     "data": {
      "image/png": "[encoded data removed]",
      "text/plain": [
       "<PIL.Image.Image image mode=RGB size=400x400 at 0x7FADBC162048>"
      ]
     },
     "execution_count": 6,
     "metadata": {},
     "output_type": "execute_result"
    }
   ],
   "source": [
    "imgRed = imageGen.showMaskOnImage(img2, tensor2)\n",
    "imgRed"
   ]
  },
  {
   "cell_type": "code",
   "execution_count": 11,
   "metadata": {},
   "outputs": [
    {
     "data": {
      "text/plain": [
       "tensor([[[0., 0., 0.,  ..., 0., 0., 0.],\n",
       "         [0., 0., 0.,  ..., 0., 0., 0.],\n",
       "         [0., 0., 0.,  ..., 0., 0., 0.],\n",
       "         ...,\n",
       "         [0., 0., 0.,  ..., 0., 0., 0.],\n",
       "         [0., 0., 0.,  ..., 0., 0., 0.],\n",
       "         [0., 0., 0.,  ..., 0., 0., 0.]]])"
      ]
     },
     "execution_count": 11,
     "metadata": {},
     "output_type": "execute_result"
    }
   ],
   "source": [
    "tensor"
   ]
  },
  {
   "cell_type": "code",
   "execution_count": null,
   "metadata": {},
   "outputs": [],
   "source": []
  }
 ],
 "metadata": {
  "kernelspec": {
   "display_name": "Python 3",
   "language": "python",
   "name": "python3"
  },
  "language_info": {
   "codemirror_mode": {
    "name": "ipython",
    "version": 3
   },
   "file_extension": ".py",
   "mimetype": "text/x-python",
   "name": "python",
   "nbconvert_exporter": "python",
   "pygments_lexer": "ipython3",
   "version": "3.6.5"
  }
 },
 "nbformat": 4,
 "nbformat_minor": 2
}
