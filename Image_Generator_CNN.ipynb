{
 "cells": [
  {
   "cell_type": "code",
   "execution_count": 9,
   "metadata": {},
   "outputs": [
    {
     "name": "stderr",
     "output_type": "stream",
     "text": [
      "/home/royce/anaconda3/lib/python3.6/site-packages/matplotlib/font_manager.py:278: UserWarning: Matplotlib is building the font cache using fc-list. This may take a moment.\n",
      "  'Matplotlib is building the font cache using fc-list. '\n"
     ]
    }
   ],
   "source": [
    "from PIL import Image\n",
    "from scipy import ndimage\n",
    "from random import randint\n",
    "import sys\n",
    "import torch\n",
    "import numpy as np\n",
    "import pandas as pd\n",
    "import matplotlib.pyplot as plt\n",
    "\n",
    "PATH = \"data/\"\n",
    "PHOTOS_PATH = PATH + \"photos/\"\n",
    "\n",
    "class dataGenerator(object):\n",
    "\n",
    "    def __init__(self):\n",
    "        self.IMAGE_SIZE=400\n",
    "        self.tensorMap = torch.zeros([self.IMAGE_SIZE, self.IMAGE_SIZE])\n",
    "    \n",
    "    def drawBackground(self,imgMap):\n",
    "        # 0 = random background, 1 = solid background, 2 = hybrid\n",
    "        #choice = randint(0,2)\n",
    "        choice = 1  #only solid backgrounds\n",
    "        if choice == 0:\n",
    "            for i in range(self.IMAGE_SIZE):\n",
    "                for j in range(self.IMAGE_SIZE):\n",
    "                    imgMap[i,j] = (randint(0,255),randint(0,255),randint(0,255))\n",
    "        elif choice == 1:\n",
    "            rgb = (randint(0,255),randint(0,255),randint(0,255))\n",
    "            for i in range(self.IMAGE_SIZE):\n",
    "                for j in range(self.IMAGE_SIZE):\n",
    "                    imgMap[i,j] = rgb\n",
    "        elif choice == 2:\n",
    "            r = randint(0,255)\n",
    "            rD = randint(0,40)\n",
    "            g = randint(0,255)\n",
    "            gD = randint(0,40)\n",
    "            b = randint(0,255)\n",
    "            bD = randint(0,40)\n",
    "            for i in range(self.IMAGE_SIZE):\n",
    "                for j in range(self.IMAGE_SIZE):\n",
    "                    imgMap[i,j] = (max(0,min(255,int(np.random.normal(r,rD)))),\n",
    "                                   max(0,min(255,int(np.random.normal(g,gD)))),\n",
    "                                   max(0,min(255,int(np.random.normal(b,bD)))))\n",
    "        else:\n",
    "            print(\"bug in drawBackground\")\n",
    "            sys.exit(-1)\n",
    "        \n",
    "    def drawLine(self,imgMap,start,lenth):\n",
    "        r = g = b = 128\n",
    "        for i in range(start, start + lenth):\n",
    "            for j in range(self.IMAGE_SIZE):\n",
    "                imgMap[i,j] = (r,g,b)\n",
    "                self.tensorMap[i,j] = 1\n",
    "\n",
    "    \n",
    "    def rotateImage(self, img, angle):\n",
    "        #This may not work. Possible only for numpy ndarray\n",
    "        return ndimage.rotate(img, angle)\n",
    "     \n",
    "    def generateImage(self,lenth):\n",
    "        img = Image.new('RGB',(self.IMAGE_SIZE,self.IMAGE_SIZE))\n",
    "        imgMap = img.load()\n",
    "        \n",
    "        self.drawBackground(imgMap)\n",
    "        \n",
    "        factor = 0.45   # ft/px\n",
    "        start = randint(10,self.IMAGE_SIZE - lenth)\n",
    "        \n",
    "        self.drawLine(imgMap,start,lenth)\n",
    "\n",
    "        return img, self.tensorMap\n",
    "    \n",
    "    def showMaskOnImage(self, img, tensor):\n",
    "        imgTemp = img\n",
    "        imgMap = imgTemp.load()\n",
    "        for i in range(0, self.IMAGE_SIZE):\n",
    "            for j in range(0, self.IMAGE_SIZE):\n",
    "                if tensor[i,j] == 1:\n",
    "                    imgMap[i,j] = (255,0,0)\n",
    "        return imgTemp"
   ]
  },
  {
   "cell_type": "code",
   "execution_count": 10,
   "metadata": {},
   "outputs": [
    {
     "name": "stdout",
     "output_type": "stream",
     "text": [
      "Picture  0\n"
     ]
    },
    {
     "data": {
      "image/png": "[encoded data removed]",
      "text/plain": [
       "<Figure size 432x288 with 1 Axes>"
      ]
     },
     "metadata": {},
     "output_type": "display_data"
    }
   ],
   "source": [
    "#import ImageGenerated_v2\n",
    "#import pandas as pd\n",
    "#from random import randint\n",
    "\n",
    "factor = 0.45\n",
    "num_of_images = 1\n",
    "\n",
    "#imageGen = roadImage2()\n",
    "imageGen = dataGenerator()\n",
    "\n",
    "for i in range(0,num_of_images):\n",
    "    if i % 10 == 0:\n",
    "        print(\"Picture \",i)\n",
    "    lenth = randint(17,35)\n",
    "    img, tMap = imageGen.generateImage(lenth)\n",
    "    \n",
    "    \n",
    "    FileName = str(i) + \".png\"\n",
    "    img.save(PHOTOS_PATH+ FileName,\"PNG\")\n",
    "    \n",
    "    plt.imshow(img)\n",
    "    imgRed = imageGen.showMaskOnImage(img, tMap)\n",
    "    plt.imshow(imgRed)\n",
    "    \n",
    "#     for i in range(30,180,30):\n",
    "#         img2 = img.rotate(i)\n",
    "#         img2.save(PHOTOS_PATH + FileName + \"-\" + str(i),\"PNG\")\n",
    "#         img2 = imageGen.rotateImage(img,i)\n",
    "#         img2.save(\"photos/\" + FileName + \"-\" + str(i),\"PNG\")         \n",
    "    \n",
    "#     FileName = str(i) + \".png\"\n",
    "    \n",
    "#     img.save(\"photos/\" + FileName,\"PNG\")"
   ]
  },
  {
   "cell_type": "code",
   "execution_count": null,
   "metadata": {},
   "outputs": [],
   "source": []
  }
 ],
 "metadata": {
  "kernelspec": {
   "display_name": "Python 3",
   "language": "python",
   "name": "python3"
  },
  "language_info": {
   "codemirror_mode": {
    "name": "ipython",
    "version": 3
   },
   "file_extension": ".py",
   "mimetype": "text/x-python",
   "name": "python",
   "nbconvert_exporter": "python",
   "pygments_lexer": "ipython3",
   "version": "3.6.5"
  }
 },
 "nbformat": 4,
 "nbformat_minor": 2
}
